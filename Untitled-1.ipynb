{
 "cells": [
  {
   "cell_type": "code",
   "execution_count": 1,
   "metadata": {},
   "outputs": [],
   "source": [
    "using Distributions"
   ]
  },
  {
   "cell_type": "markdown",
   "metadata": {},
   "source": [
    "# 1 - Maintenance problem"
   ]
  },
  {
   "cell_type": "markdown",
   "metadata": {},
   "source": [
    "- Constants : "
   ]
  },
  {
   "cell_type": "code",
   "execution_count": 2,
   "metadata": {},
   "outputs": [
    {
     "data": {
      "text/plain": [
       "4-element Vector{Matrix{Float64}}:\n",
       " [0.0 1.0 0.0 0.0; 0.0 0.3 0.7 0.0; 0.0 0.0 0.5 0.5; 0.0 0.0 0.0 1.0]\n",
       " [0.0 0.0 0.0 0.0; 0.0 0.8 0.2 0.0; 0.0 0.0 0.9 0.1; 0.0 0.0 0.0 0.0]\n",
       " [0.0 0.0 0.0 0.0; 0.0 1.0 0.0 0.0; 0.0 1.0 0.0 0.0; 0.0 1.0 0.0 0.0]\n",
       " [0.0 0.0 0.0 0.0; 1.0 0.0 0.0 0.0; 1.0 0.0 0.0 0.0; 1.0 0.0 0.0 0.0]"
      ]
     },
     "metadata": {},
     "output_type": "display_data"
    }
   ],
   "source": [
    "# all costs are written in lists as follows [New,good shape,old,broken]\n",
    "maintenance_cost = 10\n",
    "repair_costs = [0,15,30,50]\n",
    "monthly_earnings = [30,20,10,0]\n",
    "replacement_cost = 70\n",
    "Transition_matrix_without_maintenance = [\n",
    "    0 1 0 0;\n",
    "    0 0.3 0.7 0;\n",
    "    0 0 0.5 0.5;\n",
    "    0 0 0 1\n",
    "]\n",
    "Transition_matrix_with_maintenance = [\n",
    "    0 0 0 0; # a new machine cannot be maintained\n",
    "    0 0.8 0.2 0;\n",
    "    0 0 0.9 0.1;\n",
    "    0 0 0 0 # a broken machine cannot be maintained\n",
    "]\n",
    "# the next two matrices are just to make the main code easier it essentially just means you cannot repair or replace a new machine \n",
    "Transition_matrix_of_repairs = [\n",
    "    0 0 0 0;\n",
    "    0 1 0 0;\n",
    "    0 1 0 0;\n",
    "    0 1 0 0;\n",
    "]\n",
    "Transition_matrix_of_replacement = [\n",
    "    0 0 0 0;\n",
    "    1 0 0 0;\n",
    "    1 0 0 0;\n",
    "    1 0 0 0;\n",
    "]\n",
    "number_of_months = 12 \n",
    "vector_of_possibilities = [\n",
    "    Transition_matrix_without_maintenance,\n",
    "    Transition_matrix_with_maintenance,\n",
    "    Transition_matrix_of_repairs,\n",
    "    Transition_matrix_of_replacement\n",
    "]"
   ]
  },
  {
   "cell_type": "markdown",
   "metadata": {},
   "source": [
    "- the main problem :"
   ]
  },
  {
   "cell_type": "code",
   "execution_count": 3,
   "metadata": {},
   "outputs": [
    {
     "data": {
      "text/plain": [
       "cost_of_action (generic function with 1 method)"
      ]
     },
     "metadata": {},
     "output_type": "display_data"
    }
   ],
   "source": [
    "function cost_of_action(state,possibility)\n",
    "    if possibility == 1 \n",
    "        return 0\n",
    "    elseif possibility == 2 \n",
    "        return 10\n",
    "    elseif possibility == 3 \n",
    "        return repair_costs[state]\n",
    "    else \n",
    "        return 70\n",
    "    end\n",
    "end"
   ]
  },
  {
   "cell_type": "code",
   "execution_count": 4,
   "metadata": {},
   "outputs": [
    {
     "data": {
      "text/plain": [
       "3-element Vector{Int64}:\n",
       " 1\n",
       " 0\n",
       " 1"
      ]
     },
     "metadata": {},
     "output_type": "display_data"
    }
   ],
   "source": [
    "I3 = [1 0 0;0 1 0;0 0 1]\n",
    "I1 = [1,0,1]\n"
   ]
  },
  {
   "cell_type": "code",
   "execution_count": 5,
   "metadata": {},
   "outputs": [
    {
     "data": {
      "text/plain": [
       "110.82"
      ]
     },
     "metadata": {},
     "output_type": "display_data"
    }
   ],
   "source": [
    "decision_matrix = zeros(4,number_of_months)\n",
    "cost_matrix = zeros(4,number_of_months)\n",
    "cost_matrix[:,number_of_months] = monthly_earnings\n",
    "for month ∈ number_of_months-1:-1:1\n",
    "    for state ∈ 1:4\n",
    "        cost_of_possibilities = [0.0 0.0 0.0 0.0]\n",
    "        for possibility ∈ 1:4\n",
    "           cost_of_possibilities[possibility] = monthly_earnings[state] + (vector_of_possibilities[possibility][state,:]')*cost_matrix[:,month+1] - cost_of_action(state,possibility)\n",
    "        end\n",
    "        val, idx = findmax(cost_of_possibilities)\n",
    "        cost_matrix[state,month] = val\n",
    "        decision_matrix[state,month] = idx[2]\n",
    "    end\n",
    "end\n",
    "best_cost = cost_matrix[1,1]"
   ]
  },
  {
   "cell_type": "markdown",
   "metadata": {},
   "source": [
    "# 2 - Stock management"
   ]
  },
  {
   "cell_type": "markdown",
   "metadata": {},
   "source": [
    "- constants :"
   ]
  },
  {
   "cell_type": "code",
   "execution_count": 6,
   "metadata": {},
   "outputs": [
    {
     "data": {
      "text/plain": [
       "5"
      ]
     },
     "metadata": {},
     "output_type": "display_data"
    }
   ],
   "source": [
    "T = 14\n",
    "price_up = 1 \n",
    "price_down = 3\n",
    "storage_cost = 0.1\n",
    "initial_stock = 10\n",
    "n = 10 \n",
    "p = [0.2 0.2 0.4 0.4 0.7 0.7 0.2 0.2 0.8 0.8 0.5 0.5 0.2 0.2]\n",
    "max_stock = 20 \n",
    "max_order = 5"
   ]
  },
  {
   "cell_type": "markdown",
   "metadata": {},
   "source": [
    "- policy estimation code"
   ]
  },
  {
   "cell_type": "code",
   "execution_count": 7,
   "metadata": {},
   "outputs": [
    {
     "data": {
      "text/plain": [
       "get_cost_of_complete_policy (generic function with 2 methods)"
      ]
     },
     "metadata": {},
     "output_type": "display_data"
    }
   ],
   "source": [
    "function get_cost_of_complete_policy(policy,n,N=100)\n",
    "    costs = zeros(N)\n",
    "    for itr ∈ 1:N\n",
    "        stock = initial_stock\n",
    "        cost = 0\n",
    "        for t ∈ 1:T\n",
    "            up_stock = min(policy[t,stock+1],max_stock-stock)\n",
    "            cost -= up_stock*price_up\n",
    "            stock += up_stock\n",
    "            d = rand(Binomial(n, p[t]))\n",
    "            down_stock = min(d,stock)\n",
    "            stock -= down_stock\n",
    "            cost += down_stock*price_down\n",
    "            cost -= storage_cost*up_stock\n",
    "        end\n",
    "        costs[itr] = cost\n",
    "    end\n",
    "    std_var = std(costs)\n",
    "    final_cost = mean(costs)\n",
    "    CI_half_lenght = std_var*1.96/sqrt(N)\n",
    "    CI_upper_bound = final_cost + CI_half_lenght[1]\n",
    "    CI_lower_bound = final_cost - CI_half_lenght[1]\n",
    "    return final_cost,CI_upper_bound,CI_lower_bound\n",
    "end"
   ]
  },
  {
   "cell_type": "code",
   "execution_count": 8,
   "metadata": {},
   "outputs": [
    {
     "data": {
      "text/plain": [
       "get_cost_of_policy (generic function with 2 methods)"
      ]
     },
     "metadata": {},
     "output_type": "display_data"
    }
   ],
   "source": [
    "function get_cost_of_policy(policy,n,N=100)\n",
    "    costs = zeros(N)\n",
    "    for itr ∈ 1:N\n",
    "        stock = initial_stock\n",
    "        cost = 0\n",
    "        for t ∈ 1:T\n",
    "            up_stock = min(policy[t],max_stock-stock)\n",
    "            cost -= up_stock*price_up\n",
    "            stock += up_stock\n",
    "            d = rand(Binomial(n, p[t]))\n",
    "            down_stock = min(d,stock)\n",
    "            stock -= down_stock\n",
    "            cost += down_stock*price_down\n",
    "            cost -= storage_cost*up_stock\n",
    "        end\n",
    "        costs[itr] = cost\n",
    "    end\n",
    "    final_cost = mean(costs)\n",
    "    CI_half_lenght = 1.96*std(costs)/sqrt(N)\n",
    "    CI_upper_bound = final_cost + CI_half_lenght\n",
    "    CI_lower_bound = final_cost - CI_half_lenght\n",
    "    return final_cost,CI_upper_bound,CI_lower_bound\n",
    "end"
   ]
  },
  {
   "cell_type": "code",
   "execution_count": 9,
   "metadata": {},
   "outputs": [
    {
     "name": "stdout",
     "output_type": "stream",
     "text": [
      "the expected cost obtained is 110.40899999999999 and a 95% confidence interval is [107.7254427304615,113.09255726953849]"
     ]
    }
   ],
   "source": [
    "test_policy = 5 * ones(T)\n",
    "cost,CI_upper_bound,CI_lower_bound = get_cost_of_policy(test_policy,10)\n",
    "print(\"the expected cost obtained is $cost and a 95% confidence interval is [$CI_lower_bound,$CI_upper_bound]\")"
   ]
  },
  {
   "cell_type": "markdown",
   "metadata": {},
   "source": [
    "- dynamic programming"
   ]
  },
  {
   "cell_type": "code",
   "execution_count": 10,
   "metadata": {},
   "outputs": [
    {
     "data": {
      "text/plain": [
       "120.09210160261003"
      ]
     },
     "metadata": {},
     "output_type": "display_data"
    }
   ],
   "source": [
    "function inventory_dp()\n",
    "    V = zeros(T+1, max_stock + 1)\n",
    "    policy = zeros(Int, T, max_stock + 1) \n",
    "\n",
    "    binom_probs = Vector{Vector{Float64}}(undef, T)\n",
    "    for t in 1:T\n",
    "        dist = Binomial(10, p[t])\n",
    "        binom_probs[t] = [pdf(dist, k) for k in 0:10]\n",
    "    end\n",
    "\n",
    "    for t in T:-1:1  \n",
    "        probs = binom_probs[t]\n",
    "        \n",
    "        for x in 0:max_stock  \n",
    "            max_expected_cost = -Inf\n",
    "            best_u = 0\n",
    "            for u in 0:min(max_order, max_stock - x)\n",
    "                S = x + u  \n",
    "                total_cost = 0.0\n",
    "                for (k_idx, k) in enumerate(0:10)\n",
    "                    prob = probs[k_idx]\n",
    "                    sales = min(k, S)\n",
    "                    next_stock = max(0, S - k)\n",
    "                    order_cost = price_up*u\n",
    "                    holding_cost = storage_cost * next_stock\n",
    "                    revenue = price_down* sales\n",
    "                    cost_component = revenue - order_cost - holding_cost\n",
    "                    if t < T\n",
    "                        cost_component += V[t+1, next_stock + 1] \n",
    "                    end\n",
    "                    \n",
    "                    total_cost += prob * cost_component\n",
    "                end\n",
    "                if total_cost > max_expected_cost\n",
    "                    max_expected_cost = total_cost\n",
    "                    best_u = u\n",
    "                end\n",
    "            end\n",
    "            V[t, x+1] = max_expected_cost\n",
    "            policy[t, x+1] = best_u\n",
    "        end\n",
    "    end\n",
    "\n",
    "    return V, policy\n",
    "end\n",
    "\n",
    "V, policy = inventory_dp()\n",
    "\n",
    "expected_cost = V[1, 10+1]"
   ]
  },
  {
   "cell_type": "code",
   "execution_count": 11,
   "metadata": {},
   "outputs": [
    {
     "name": "stdout",
     "output_type": "stream",
     "text": [
      "the expected cost obtained for the optimal policy is 120.55999999999999 and a 95% confidence interval is [122.21702597896034,118.90297402103964]"
     ]
    }
   ],
   "source": [
    "cost,UB,LB = get_cost_of_complete_policy(policy,10)\n",
    "print(\"the expected cost obtained for the optimal policy is $cost and a 95% confidence interval is [$UB,$LB]\")"
   ]
  },
  {
   "cell_type": "code",
   "execution_count": 31,
   "metadata": {},
   "outputs": [
    {
     "name": "stdout",
     "output_type": "stream",
     "text": [
      "14"
     ]
    },
    {
     "data": {
      "text/plain": [
       "784.2349650620882"
      ]
     },
     "metadata": {},
     "output_type": "display_data"
    }
   ],
   "source": [
    "function inventory_dp_mod(T)\n",
    "    V = zeros(T+1, max_stock + 1)\n",
    "    policy = zeros(Int, T, max_stock + 1) \n",
    "    len = length(p)\n",
    "    print(len)\n",
    "    binom_probs = Vector{Vector{Float64}}(undef, T)\n",
    "    for t in 1:T\n",
    "        dist = Binomial(10, p[((t-1)%len)+1])\n",
    "        binom_probs[t] = [pdf(dist, k) for k in 0:10]\n",
    "    end\n",
    "\n",
    "    for t in T:-1:1  \n",
    "        probs = binom_probs[t]\n",
    "        \n",
    "        for x in 0:max_stock  \n",
    "            max_expected_cost = -Inf\n",
    "            best_u = 0\n",
    "            for u in 0:min(max_order, max_stock - x)\n",
    "                S = x + u  \n",
    "                total_cost = 0.0\n",
    "                for (k_idx, k) in enumerate(0:10)\n",
    "                    prob = probs[k_idx]\n",
    "                    sales = min(k, S)\n",
    "                    next_stock = max(0, S - k)\n",
    "                    order_cost = price_up*u\n",
    "                    holding_cost = storage_cost * next_stock\n",
    "                    revenue = price_down* sales\n",
    "                    cost_component = revenue - order_cost - holding_cost\n",
    "                    if t < T\n",
    "                        cost_component += V[t+1, next_stock + 1] \n",
    "                    end\n",
    "                    \n",
    "                    total_cost += prob * cost_component\n",
    "                end\n",
    "                if total_cost > max_expected_cost\n",
    "                    max_expected_cost = total_cost\n",
    "                    best_u = u\n",
    "                end\n",
    "            end\n",
    "            V[t, x+1] = max_expected_cost\n",
    "            policy[t, x+1] = best_u\n",
    "        end\n",
    "    end\n",
    "\n",
    "    return V, policy\n",
    "end\n",
    "\n",
    "V, policy = inventory_dp_mod(96)\n",
    "\n",
    "expected_cost = V[1, 10+1]"
   ]
  },
  {
   "cell_type": "markdown",
   "metadata": {},
   "source": [
    "question 3 - b  for later"
   ]
  },
  {
   "cell_type": "markdown",
   "metadata": {},
   "source": [
    "# 3 - Dice trading"
   ]
  },
  {
   "cell_type": "markdown",
   "metadata": {},
   "source": [
    "- constants :"
   ]
  },
  {
   "cell_type": "code",
   "execution_count": null,
   "metadata": {},
   "outputs": [],
   "source": [
    "T = 10\n",
    "price_per_dice = 5\n",
    "price_required_to_buy = 6\n",
    "maximum_amount_of_dice = 3"
   ]
  },
  {
   "cell_type": "code",
   "execution_count": null,
   "metadata": {},
   "outputs": [],
   "source": [
    "function simulate_strategy(T,strategy)\n",
    "    points = 0\n",
    "end"
   ]
  }
 ],
 "metadata": {
  "kernelspec": {
   "display_name": "Julia 1.10.2",
   "language": "julia",
   "name": "julia-1.10"
  },
  "language_info": {
   "file_extension": ".jl",
   "mimetype": "application/julia",
   "name": "julia",
   "version": "1.10.2"
  }
 },
 "nbformat": 4,
 "nbformat_minor": 2
}
