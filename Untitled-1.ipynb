{
 "cells": [
  {
   "cell_type": "code",
   "execution_count": 38,
   "metadata": {},
   "outputs": [],
   "source": [
    "using Distributions, Statistics"
   ]
  },
  {
   "cell_type": "markdown",
   "metadata": {},
   "source": [
    "# 1 - Maintenance problem"
   ]
  },
  {
   "cell_type": "markdown",
   "metadata": {},
   "source": [
    "- Constants : "
   ]
  },
  {
   "cell_type": "code",
   "execution_count": 2,
   "metadata": {},
   "outputs": [
    {
     "data": {
      "text/plain": [
       "4-element Vector{Matrix{Float64}}:\n",
       " [0.0 1.0 0.0 0.0; 0.0 0.3 0.7 0.0; 0.0 0.0 0.5 0.5; 0.0 0.0 0.0 1.0]\n",
       " [0.0 0.0 0.0 0.0; 0.0 0.8 0.2 0.0; 0.0 0.0 0.9 0.1; 0.0 0.0 0.0 0.0]\n",
       " [0.0 0.0 0.0 0.0; 0.0 1.0 0.0 0.0; 0.0 1.0 0.0 0.0; 0.0 1.0 0.0 0.0]\n",
       " [0.0 0.0 0.0 0.0; 1.0 0.0 0.0 0.0; 1.0 0.0 0.0 0.0; 1.0 0.0 0.0 0.0]"
      ]
     },
     "metadata": {},
     "output_type": "display_data"
    }
   ],
   "source": [
    "# all costs are written in lists as follows [New,good shape,old,broken]\n",
    "maintenance_cost = 10\n",
    "repair_costs = [0,15,30,50]\n",
    "monthly_earnings = [30,20,10,0]\n",
    "replacement_cost = 70\n",
    "Transition_matrix_without_maintenance = [\n",
    "    0 1 0 0;\n",
    "    0 0.3 0.7 0;\n",
    "    0 0 0.5 0.5;\n",
    "    0 0 0 1\n",
    "]\n",
    "Transition_matrix_with_maintenance = [\n",
    "    0 0 0 0; # a new machine cannot be maintained\n",
    "    0 0.8 0.2 0;\n",
    "    0 0 0.9 0.1;\n",
    "    0 0 0 0 # a broken machine cannot be maintained\n",
    "]\n",
    "# the next two matrices are just to make the main code easier it essentially just means you cannot repair or replace a new machine \n",
    "Transition_matrix_of_repairs = [\n",
    "    0 0 0 0;\n",
    "    0 1 0 0;\n",
    "    0 1 0 0;\n",
    "    0 1 0 0;\n",
    "]\n",
    "Transition_matrix_of_replacement = [\n",
    "    0 0 0 0;\n",
    "    1 0 0 0;\n",
    "    1 0 0 0;\n",
    "    1 0 0 0;\n",
    "]\n",
    "number_of_months = 12 \n",
    "vector_of_possibilities = [\n",
    "    Transition_matrix_without_maintenance,\n",
    "    Transition_matrix_with_maintenance,\n",
    "    Transition_matrix_of_repairs,\n",
    "    Transition_matrix_of_replacement\n",
    "]"
   ]
  },
  {
   "cell_type": "markdown",
   "metadata": {},
   "source": [
    "- the main problem :"
   ]
  },
  {
   "cell_type": "code",
   "execution_count": 3,
   "metadata": {},
   "outputs": [
    {
     "data": {
      "text/plain": [
       "cost_of_action (generic function with 1 method)"
      ]
     },
     "metadata": {},
     "output_type": "display_data"
    }
   ],
   "source": [
    "function cost_of_action(state,possibility)\n",
    "    if possibility == 1 \n",
    "        return 0\n",
    "    elseif possibility == 2 \n",
    "        return 10\n",
    "    elseif possibility == 3 \n",
    "        return repair_costs[state]\n",
    "    else \n",
    "        return 70\n",
    "    end\n",
    "end"
   ]
  },
  {
   "cell_type": "code",
   "execution_count": 4,
   "metadata": {},
   "outputs": [
    {
     "data": {
      "text/plain": [
       "110.82"
      ]
     },
     "metadata": {},
     "output_type": "display_data"
    }
   ],
   "source": [
    "decision_matrix = zeros(4,number_of_months)\n",
    "cost_matrix = zeros(4,number_of_months)\n",
    "cost_matrix[:,number_of_months] = monthly_earnings\n",
    "for month ∈ number_of_months-1:-1:1\n",
    "    for state ∈ 1:4\n",
    "        cost_of_possibilities = [0.0 0.0 0.0 0.0]\n",
    "        for possibility ∈ 1:4\n",
    "           cost_of_possibilities[possibility] = monthly_earnings[state] + (vector_of_possibilities[possibility][state,:]')*cost_matrix[:,month+1] - cost_of_action(state,possibility)\n",
    "        end\n",
    "        val, idx = findmax(cost_of_possibilities)\n",
    "        cost_matrix[state,month] = val\n",
    "        decision_matrix[state,month] = idx[2]\n",
    "    end\n",
    "end\n",
    "best_cost = cost_matrix[1,1]"
   ]
  },
  {
   "cell_type": "markdown",
   "metadata": {},
   "source": [
    "# 2 - Stock management"
   ]
  },
  {
   "cell_type": "markdown",
   "metadata": {},
   "source": [
    "- constants :"
   ]
  },
  {
   "cell_type": "code",
   "execution_count": 78,
   "metadata": {},
   "outputs": [
    {
     "data": {
      "text/plain": [
       "5"
      ]
     },
     "metadata": {},
     "output_type": "display_data"
    }
   ],
   "source": [
    "T = 14\n",
    "price_up = 1 \n",
    "price_down = 3\n",
    "storage_cost = 0.1\n",
    "initial_stock = 10\n",
    "n = 10 \n",
    "p = [0.2 0.2 0.4 0.4 0.7 0.7 0.2 0.2 0.8 0.8 0.5 0.5 0.2 0.2]\n",
    "max_stock = 20 \n",
    "min_stock = 1\n",
    "max_order = 5"
   ]
  },
  {
   "cell_type": "markdown",
   "metadata": {},
   "source": [
    "- policy estimation code"
   ]
  },
  {
   "cell_type": "code",
   "execution_count": 79,
   "metadata": {},
   "outputs": [
    {
     "data": {
      "text/plain": [
       "get_cost_of_complete_policy (generic function with 2 methods)"
      ]
     },
     "metadata": {},
     "output_type": "display_data"
    }
   ],
   "source": [
    "function get_cost_of_complete_policy(policy,n,N=10000)\n",
    "    costs = zeros(N)\n",
    "    for itr ∈ 1:N\n",
    "        stock = initial_stock\n",
    "        cost = 0\n",
    "        for t ∈ 1:T\n",
    "            up_stock = min(policy[t,stock+1],max_stock-stock)\n",
    "            cost -= up_stock*price_up\n",
    "            stock += up_stock\n",
    "            d = rand(Binomial(n, p[t]))\n",
    "            down_stock = min(d,stock-1)\n",
    "            stock -= down_stock\n",
    "            cost += down_stock*price_down\n",
    "            cost -= storage_cost*up_stock\n",
    "        end\n",
    "        costs[itr] = cost\n",
    "    end\n",
    "    std_var = std(costs)\n",
    "    final_cost = mean(costs)\n",
    "    CI_half_lenght = std_var*1.96/sqrt(N)\n",
    "    CI_upper_bound = final_cost + CI_half_lenght[1]\n",
    "    CI_lower_bound = final_cost - CI_half_lenght[1]\n",
    "    return final_cost,CI_upper_bound,CI_lower_bound\n",
    "end"
   ]
  },
  {
   "cell_type": "code",
   "execution_count": 80,
   "metadata": {},
   "outputs": [
    {
     "data": {
      "text/plain": [
       "get_cost_of_policy (generic function with 2 methods)"
      ]
     },
     "metadata": {},
     "output_type": "display_data"
    }
   ],
   "source": [
    "function get_cost_of_policy(policy,n,N=10000)\n",
    "    costs = zeros(N)\n",
    "    for itr ∈ 1:N\n",
    "        stock = initial_stock\n",
    "        cost = 0\n",
    "        for t ∈ 1:T\n",
    "            up_stock = min(policy[t],max_stock-stock)\n",
    "            cost -= up_stock*price_up\n",
    "            stock += up_stock\n",
    "            d = rand(Binomial(n, p[t]))\n",
    "            down_stock = min(d,stock-1)\n",
    "            stock -= down_stock\n",
    "            cost += down_stock*price_down\n",
    "            cost -= storage_cost*up_stock\n",
    "        end\n",
    "        costs[itr] = cost\n",
    "    end\n",
    "    final_cost = mean(costs)\n",
    "    CI_half_lenght = 1.96*std(costs)/sqrt(N)\n",
    "    CI_upper_bound = final_cost + CI_half_lenght\n",
    "    CI_lower_bound = final_cost - CI_half_lenght\n",
    "    return final_cost,CI_upper_bound,CI_lower_bound\n",
    "end"
   ]
  },
  {
   "cell_type": "code",
   "execution_count": 84,
   "metadata": {},
   "outputs": [
    {
     "name": "stdout",
     "output_type": "stream",
     "text": [
      "the expected cost obtained is 109.307 and a 95% confidence interval is [109.06253991226441,109.55146008773559]"
     ]
    }
   ],
   "source": [
    "test_policy = 5 * ones(T)\n",
    "cost,CI_upper_bound,CI_lower_bound = get_cost_of_policy(test_policy,10)\n",
    "print(\"the expected cost obtained is $cost and a 95% confidence interval is [$CI_lower_bound,$CI_upper_bound]\")"
   ]
  },
  {
   "cell_type": "markdown",
   "metadata": {},
   "source": [
    "- dynamic programming"
   ]
  },
  {
   "cell_type": "code",
   "execution_count": 85,
   "metadata": {},
   "outputs": [
    {
     "data": {
      "text/plain": [
       "116.75121513292399"
      ]
     },
     "metadata": {},
     "output_type": "display_data"
    }
   ],
   "source": [
    "function inventory_dp()\n",
    "    V = zeros(T+1, max_stock + 1)\n",
    "    policy = zeros(Int, T, max_stock + 1) \n",
    "\n",
    "    binom_probs = Vector{Vector{Float64}}(undef, T)\n",
    "    for t in 1:T\n",
    "        dist = Binomial(10, p[t])\n",
    "        binom_probs[t] = [pdf(dist, k) for k in 0:10]\n",
    "    end\n",
    "\n",
    "    for t in T:-1:1  \n",
    "        probs = binom_probs[t]\n",
    "        \n",
    "        for x in 0:max_stock  \n",
    "            max_expected_cost = -Inf\n",
    "            best_u = 0\n",
    "            for u in 0:min(max_order, max_stock - x)\n",
    "                S = x + u  \n",
    "                total_cost = 0.0\n",
    "                for (k_idx, k) in enumerate(0:10)\n",
    "                    prob = probs[k_idx]\n",
    "                    sales = min(k, S-1)\n",
    "                    next_stock = max(0, S - k)\n",
    "                    order_cost = price_up*u\n",
    "                    holding_cost = storage_cost * next_stock\n",
    "                    revenue = price_down* sales\n",
    "                    cost_component = revenue - order_cost - holding_cost\n",
    "                    if t < T\n",
    "                        cost_component += V[t+1, next_stock + 1] \n",
    "                    end\n",
    "                    \n",
    "                    total_cost += prob * cost_component\n",
    "                end\n",
    "                if total_cost > max_expected_cost\n",
    "                    max_expected_cost = total_cost\n",
    "                    best_u = u\n",
    "                end\n",
    "            end\n",
    "            V[t, x+1] = max_expected_cost\n",
    "            policy[t, x+1] = best_u\n",
    "        end\n",
    "    end\n",
    "\n",
    "    return V, policy\n",
    "end\n",
    "\n",
    "V, policy = inventory_dp()\n",
    "\n",
    "expected_cost = V[1, 10+1]"
   ]
  },
  {
   "cell_type": "code",
   "execution_count": 94,
   "metadata": {},
   "outputs": [
    {
     "name": "stdout",
     "output_type": "stream",
     "text": [
      "the expected cost obtained for the optimal policy is 121.14041999999999 and a 95% confidence interval is [120.96738221461526,121.31345778538473]"
     ]
    }
   ],
   "source": [
    "cost,LB,UB = get_cost_of_complete_policy(policy,10)\n",
    "print(\"the expected cost obtained for the optimal policy is $cost and a 95% confidence interval is [$UB,$LB]\")"
   ]
  },
  {
   "cell_type": "code",
   "execution_count": 29,
   "metadata": {},
   "outputs": [
    {
     "name": "stdout",
     "output_type": "stream",
     "text": [
      "14"
     ]
    },
    {
     "data": {
      "text/plain": [
       "765.2803067250243"
      ]
     },
     "metadata": {},
     "output_type": "display_data"
    }
   ],
   "source": [
    "function inventory_dp_mod(T)\n",
    "    V = zeros(T+1, max_stock + 1)\n",
    "    policy = zeros(Int, T, max_stock + 1) \n",
    "    len = length(p)\n",
    "    print(len)\n",
    "    binom_probs = Vector{Vector{Float64}}(undef, T)\n",
    "    for t in 1:T\n",
    "        dist = Binomial(10, p[((t-1)%len)+1])\n",
    "        binom_probs[t] = [pdf(dist, k) for k in 0:10]\n",
    "    end\n",
    "\n",
    "    for t in T:-1:1  \n",
    "        probs = binom_probs[t]\n",
    "        \n",
    "        for x in 0:max_stock  \n",
    "            max_expected_cost = -Inf\n",
    "            best_u = 0\n",
    "            for u in 0:min(max_order, max_stock - x)\n",
    "                S = x + u  \n",
    "                total_cost = 0.0\n",
    "                for (k_idx, k) in enumerate(0:10)\n",
    "                    prob = probs[k_idx]\n",
    "                    sales = min(k, S-1)\n",
    "                    next_stock = max(0, S - k)\n",
    "                    order_cost = price_up*u\n",
    "                    holding_cost = storage_cost * next_stock\n",
    "                    revenue = price_down* sales\n",
    "                    cost_component = revenue - order_cost - holding_cost\n",
    "                    if t < T\n",
    "                        cost_component += V[t+1, next_stock + 1] \n",
    "                    end\n",
    "                    \n",
    "                    total_cost += prob * cost_component\n",
    "                end\n",
    "                if total_cost > max_expected_cost\n",
    "                    max_expected_cost = total_cost\n",
    "                    best_u = u\n",
    "                end\n",
    "            end\n",
    "            V[t, x+1] = max_expected_cost\n",
    "            policy[t, x+1] = best_u\n",
    "        end\n",
    "    end\n",
    "\n",
    "    return V, policy\n",
    "end\n",
    "\n",
    "V, policy = inventory_dp_mod(96)\n",
    "\n",
    "expected_cost = V[1, 10+1]"
   ]
  },
  {
   "cell_type": "code",
   "execution_count": null,
   "metadata": {},
   "outputs": [
    {
     "name": "stdout",
     "output_type": "stream",
     "text": [
      "Optimal expected cost: 148.0\n"
     ]
    }
   ],
   "source": [
    "function solve_stock_dp()\n",
    "    p = [0.2, 0.2, 0.4, 0.4, 0.7, 0.7, 0.2, 0.2, 0.8, 0.8, 0.5, 0.5, 0.2, 0.2]\n",
    "    \n",
    "    # Adjusted state dimensions with proper bounds\n",
    "    stock_range = min_stock:max_stock\n",
    "    order_range = 0:max_order\n",
    "    \n",
    "    # Value function dimensions: [time, stock, prev_order1, prev_order2]\n",
    "    V = Array{Float64}(undef, T+1, length(stock_range), length(order_range), length(order_range))\n",
    "    policy = Array{Int}(undef, T, length(stock_range), length(order_range), length(order_range))\n",
    "    \n",
    "    # Terminal condition: V[T+1, :, :, :] = 0\n",
    "    fill!(view(V, T+1, :, :, :), 0.0)\n",
    "\n",
    "    # Precompute binomial probabilities\n",
    "    binom_probs = Vector{Vector{Float64}}(undef, T)\n",
    "    for t in 1:T\n",
    "        dist = Binomial(10, p[t])\n",
    "        binom_probs[t] = [pdf(dist, d) for d in 0:10]\n",
    "    end\n",
    "\n",
    "    for t in T:-1:1\n",
    "        for x in stock_range \n",
    "            for u1 in order_range\n",
    "                for u2 in order_range\n",
    "                    min_cost = Inf\n",
    "                    best_action = 0\n",
    "\n",
    "                    current_stock = x + u1\n",
    "                    current_stock = min(current_stock, max_stock)\n",
    "\n",
    "                    expected_cost = 0.0\n",
    "                    for (d_idx, d) in enumerate(0:10)\n",
    "                        prob = binom_probs[t][d_idx]\n",
    "                        after_demand = max(min_stock, current_stock - d)\n",
    "                        sales = min(d, current_stock)\n",
    "                        holding = 0.1 * after_demand\n",
    "                        revenue = 3 * sales\n",
    "                        \n",
    "                        best_u = 0\n",
    "                        max_cost_d = -Inf\n",
    "                        \n",
    "                        \n",
    "                        max_feasible = min(max_order, max_stock - after_demand)\n",
    "                        \n",
    "                        for u in 0:max_feasible\n",
    "                            \n",
    "                            next_stock = max(min_stock, after_demand + u2)\n",
    "                            next_stock = min(next_stock, max_stock)\n",
    "                            \n",
    "                            x_idx = next_stock - min_stock + 1\n",
    "                            u1_idx = u2 + 1  \n",
    "                            u2_idx = u + 1\n",
    "                        \n",
    "                            order_cost = u\n",
    "                            total_cost = revenue- order_cost - holding  \n",
    "                            \n",
    "                            if t < T\n",
    "                                total_cost += V[t+1, x_idx, u1_idx, u2_idx]\n",
    "                            end\n",
    "                            \n",
    "                            if total_cost > max_cost_d\n",
    "                                max_cost_d = total_cost\n",
    "                                best_u = u\n",
    "                            end\n",
    "                        end\n",
    "                        \n",
    "                        expected_cost += prob * max_cost_d\n",
    "                    end\n",
    "                    x_idx = x - min_stock + 1\n",
    "                    u1_idx = u1 + 1\n",
    "                    u2_idx = u2 + 1\n",
    "                    \n",
    "                    V[t, x_idx, u1_idx, u2_idx] = expected_cost\n",
    "                    policy[t, x_idx, u1_idx, u2_idx] = best_action\n",
    "                end\n",
    "            end\n",
    "        end\n",
    "    end\n",
    "    initial_x_idx = 10 - min_stock + 1\n",
    "    return V[1, initial_x_idx, 1, 1]  \n",
    "end\n",
    "\n",
    "optimal_value = solve_stock_dp()\n",
    "println(\"Optimal expected cost: \", round(optimal_value, digits=2))"
   ]
  },
  {
   "cell_type": "markdown",
   "metadata": {},
   "source": [
    "# 3 - Dice trading"
   ]
  },
  {
   "cell_type": "markdown",
   "metadata": {},
   "source": [
    "- constants :"
   ]
  },
  {
   "cell_type": "code",
   "execution_count": 97,
   "metadata": {},
   "outputs": [
    {
     "data": {
      "text/plain": [
       "3"
      ]
     },
     "metadata": {},
     "output_type": "display_data"
    }
   ],
   "source": [
    "T = 10\n",
    "price_per_dice = 5\n",
    "max_dice = 3"
   ]
  },
  {
   "cell_type": "code",
   "execution_count": 98,
   "metadata": {},
   "outputs": [
    {
     "data": {
      "text/plain": [
       "simulate_strategy (generic function with 2 methods)"
      ]
     },
     "metadata": {},
     "output_type": "display_data"
    }
   ],
   "source": [
    "function simulate_strategy(strategy,N=10000)\n",
    "    results = zeros(N)\n",
    "    \n",
    "    for i in 1:N\n",
    "        x = 0  \n",
    "        d = 1  \n",
    "        for t in 1:T\n",
    "            action = strategy[t, x+1, d]\n",
    "            \n",
    "            if action == 1 && x >= 6 && d < 3\n",
    "                x -= price_per_dice\n",
    "                d += 1\n",
    "            end\n",
    "            \n",
    "            roll = rand(1:6, d)\n",
    "            x += maximum(roll)\n",
    "        end\n",
    "        results[i] = x\n",
    "    end\n",
    "    \n",
    "    μ = mean(results)\n",
    "    ci = 1.96 * std(results)/sqrt(N)\n",
    "    return μ, μ - ci, μ + ci\n",
    "end"
   ]
  },
  {
   "cell_type": "code",
   "execution_count": 99,
   "metadata": {},
   "outputs": [
    {
     "data": {
      "text/plain": [
       "solve_dice_dp (generic function with 1 method)"
      ]
     },
     "metadata": {},
     "output_type": "display_data"
    }
   ],
   "source": [
    "function solve_dice_dp()\n",
    "    T = 10\n",
    "    max_dice = 3\n",
    "    max_points = 61 # 6 * 10  and we add 1 for safety \n",
    "\n",
    "    V = zeros(T+1, max_points+1, max_dice+1)\n",
    "    policy = zeros(Int, T, max_points+1, max_dice+1)\n",
    "\n",
    "    for x in 0:max_points, d in 1:max_dice\n",
    "        V[T+1, x+1, d] = x\n",
    "    end\n",
    "    \n",
    "\n",
    "    dice_probs = [Dict{Int,Float64}() for _ in 1:3]\n",
    "    for dice in 1:3\n",
    "        for m in 1:6\n",
    "            prob = (m/6)^dice - ((m-1)/6)^dice\n",
    "            dice_probs[dice][m] = prob\n",
    "        end\n",
    "    end\n",
    "    \n",
    "    for t in T:-1:1\n",
    "        for x in 0:max_points\n",
    "            for d in 1:max_dice\n",
    "                best_value = -Inf\n",
    "                best_action = 0\n",
    "\n",
    "                for action in 0:1\n",
    "                    if action == 1 && (x < 6 || d >= 3)\n",
    "                        continue\n",
    "                    end\n",
    "                    \n",
    "                    current_value = 0.0\n",
    "                    if action == 1\n",
    "                        new_d = min(d + 1, 3)\n",
    "                        new_x = x - price_per_dice\n",
    "                    else\n",
    "                        new_d = d\n",
    "                        new_x = x\n",
    "                    end\n",
    "                    \n",
    "                    new_x < 0 && continue\n",
    "                    \n",
    "                    for (m, prob) in dice_probs[new_d]\n",
    "                        next_x = new_x + m\n",
    "                        next_x = min(next_x, max_points)\n",
    "                        \n",
    "                        if t+1 <= T && next_x <= max_points\n",
    "                            current_value += prob * V[t+1, next_x+1, new_d]\n",
    "                        else\n",
    "                            current_value += prob * next_x\n",
    "                        end\n",
    "                    end\n",
    "                    \n",
    "                    if current_value > best_value\n",
    "                        best_value = current_value\n",
    "                        best_action = action\n",
    "                    end\n",
    "                end\n",
    "                \n",
    "                V[t, x+1, d] = best_value\n",
    "                policy[t, x+1, d] = best_action\n",
    "            end\n",
    "        end\n",
    "    end\n",
    "    \n",
    "    V, policy\n",
    "end"
   ]
  },
  {
   "cell_type": "code",
   "execution_count": 100,
   "metadata": {},
   "outputs": [
    {
     "name": "stdout",
     "output_type": "stream",
     "text": [
      "the gains from the optimal strategy is 37.62152777777777\n",
      "through simulation we find the gain associated with the optimal strategy is 37.6336 and the 95% confidence interval is [37.53408230701705,37.73311769298295]"
     ]
    }
   ],
   "source": [
    "V, policy = solve_dice_dp()\n",
    "print(\"the gains from the optimal strategy is $(V[1,1,1])\")\n",
    "println()\n",
    "μ,LB,UB =  simulate_strategy(policy)\n",
    "print(\"through simulation we find the gain associated with the optimal strategy is $μ and the 95% confidence interval is [$LB,$UB]\")"
   ]
  },
  {
   "cell_type": "code",
   "execution_count": null,
   "metadata": {},
   "outputs": [],
   "source": []
  }
 ],
 "metadata": {
  "kernelspec": {
   "display_name": "Julia 1.10.2",
   "language": "julia",
   "name": "julia-1.10"
  },
  "language_info": {
   "file_extension": ".jl",
   "mimetype": "application/julia",
   "name": "julia",
   "version": "1.10.2"
  }
 },
 "nbformat": 4,
 "nbformat_minor": 2
}
