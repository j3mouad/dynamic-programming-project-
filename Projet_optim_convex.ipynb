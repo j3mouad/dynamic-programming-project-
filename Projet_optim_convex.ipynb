{
 "cells": [
  {
   "cell_type": "code",
   "execution_count": 32,
   "metadata": {},
   "outputs": [],
   "source": [
    "using Distributions, Statistics"
   ]
  },
  {
   "cell_type": "markdown",
   "metadata": {},
   "source": [
    "# 1 - Maintenance problem"
   ]
  },
  {
   "cell_type": "markdown",
   "metadata": {},
   "source": [
    "- Constants : "
   ]
  },
  {
   "cell_type": "code",
   "execution_count": 33,
   "metadata": {},
   "outputs": [
    {
     "data": {
      "text/plain": [
       "4-element Vector{Matrix{Float64}}:\n",
       " [0.0 1.0 0.0 0.0; 0.0 0.3 0.7 0.0; 0.0 0.0 0.5 0.5; 0.0 0.0 0.0 1.0]\n",
       " [0.0 0.0 0.0 0.0; 0.0 0.8 0.2 0.0; 0.0 0.0 0.9 0.1; 0.0 0.0 0.0 0.0]\n",
       " [0.0 0.0 0.0 0.0; 0.0 1.0 0.0 0.0; 0.0 1.0 0.0 0.0; 0.0 1.0 0.0 0.0]\n",
       " [0.0 0.0 0.0 0.0; 1.0 0.0 0.0 0.0; 1.0 0.0 0.0 0.0; 1.0 0.0 0.0 0.0]"
      ]
     },
     "metadata": {},
     "output_type": "display_data"
    }
   ],
   "source": [
    "# all costs are written in lists as follows [New,good shape,old,broken]\n",
    "maintenance_cost = 10\n",
    "repair_costs = [0,15,30,50]\n",
    "monthly_earnings = [30,20,10,0]\n",
    "replacement_cost = 70\n",
    "Transition_matrix_without_maintenance = [\n",
    "    0 1 0 0;\n",
    "    0 0.3 0.7 0;\n",
    "    0 0 0.5 0.5;\n",
    "    0 0 0 1\n",
    "]\n",
    "Transition_matrix_with_maintenance = [\n",
    "    0 0 0 0; # a new machine cannot be maintained\n",
    "    0 0.8 0.2 0;\n",
    "    0 0 0.9 0.1;\n",
    "    0 0 0 0 # a broken machine cannot be maintained\n",
    "]\n",
    "# the next two matrices are just to make the main code easier it essentially just means you cannot repair or replace a new machine \n",
    "Transition_matrix_of_repairs = [\n",
    "    0 0 0 0;\n",
    "    0 1 0 0;\n",
    "    0 1 0 0;\n",
    "    0 1 0 0;\n",
    "]\n",
    "Transition_matrix_of_replacement = [\n",
    "    0 0 0 0;\n",
    "    1 0 0 0;\n",
    "    1 0 0 0;\n",
    "    1 0 0 0;\n",
    "]\n",
    "number_of_months = 12 \n",
    "vector_of_possibilities = [\n",
    "    Transition_matrix_without_maintenance,\n",
    "    Transition_matrix_with_maintenance,\n",
    "    Transition_matrix_of_repairs,\n",
    "    Transition_matrix_of_replacement\n",
    "]"
   ]
  },
  {
   "cell_type": "markdown",
   "metadata": {},
   "source": [
    "- the main problem :"
   ]
  },
  {
   "cell_type": "code",
   "execution_count": 34,
   "metadata": {},
   "outputs": [
    {
     "data": {
      "text/plain": [
       "cost_of_action (generic function with 1 method)"
      ]
     },
     "metadata": {},
     "output_type": "display_data"
    }
   ],
   "source": [
    "function cost_of_action(state,possibility)\n",
    "    if possibility == 1 \n",
    "        return 0\n",
    "    elseif possibility == 2 \n",
    "        return 10\n",
    "    elseif possibility == 3 \n",
    "        return repair_costs[state]\n",
    "    else \n",
    "        return 70\n",
    "    end\n",
    "end"
   ]
  },
  {
   "cell_type": "code",
   "execution_count": 35,
   "metadata": {},
   "outputs": [
    {
     "data": {
      "text/plain": [
       "110.82"
      ]
     },
     "metadata": {},
     "output_type": "display_data"
    }
   ],
   "source": [
    "decision_matrix = zeros(4,number_of_months)\n",
    "cost_matrix = zeros(4,number_of_months)\n",
    "cost_matrix[:,number_of_months] = monthly_earnings\n",
    "for month ∈ number_of_months-1:-1:1\n",
    "    for state ∈ 1:4\n",
    "        cost_of_possibilities = [0.0 0.0 0.0 0.0]\n",
    "        for possibility ∈ 1:4\n",
    "           cost_of_possibilities[possibility] = monthly_earnings[state] + (vector_of_possibilities[possibility][state,:]')*cost_matrix[:,month+1] - cost_of_action(state,possibility)\n",
    "        end\n",
    "        val, idx = findmax(cost_of_possibilities)\n",
    "        cost_matrix[state,month] = val\n",
    "        decision_matrix[state,month] = idx[2]\n",
    "    end\n",
    "end\n",
    "best_cost = cost_matrix[1,1]"
   ]
  },
  {
   "cell_type": "markdown",
   "metadata": {},
   "source": [
    "# 2 - Stock management"
   ]
  },
  {
   "cell_type": "markdown",
   "metadata": {},
   "source": [
    "- constants :"
   ]
  },
  {
   "cell_type": "code",
   "execution_count": 62,
   "metadata": {},
   "outputs": [
    {
     "data": {
      "text/plain": [
       "5"
      ]
     },
     "metadata": {},
     "output_type": "display_data"
    }
   ],
   "source": [
    "T = 14\n",
    "price_up = 1 \n",
    "price_down = 3\n",
    "storage_cost = 0.1\n",
    "initial_stock = 10\n",
    "n = 10 \n",
    "p = [0.2 0.2 0.4 0.4 0.7 0.7 0.2 0.2 0.8 0.8 0.5 0.5 0.2 0.2]\n",
    "len_p = length(p)\n",
    "max_stock = 20 \n",
    "min_stock = 1\n",
    "max_order = 5"
   ]
  },
  {
   "cell_type": "markdown",
   "metadata": {},
   "source": [
    "- policy estimation code"
   ]
  },
  {
   "cell_type": "code",
   "execution_count": 37,
   "metadata": {},
   "outputs": [
    {
     "data": {
      "text/plain": [
       "get_cost_of_complete_policy (generic function with 2 methods)"
      ]
     },
     "metadata": {},
     "output_type": "display_data"
    }
   ],
   "source": [
    "function get_cost_of_complete_policy(policy, n, N=10000)\n",
    "    costs = zeros(N)\n",
    "    for itr ∈ 1:N\n",
    "        stock = initial_stock\n",
    "        cost = 0\n",
    "        for t ∈ 1:T\n",
    "            up_stock = min(policy[t, stock], 5, max_stock - stock)\n",
    "            cost -= up_stock * price_up \n",
    "            stock += up_stock\n",
    "            d = rand(Binomial(n, p[t]))\n",
    "            down_stock = min(d, stock - 1) \n",
    "            stock -= down_stock\n",
    "            cost += down_stock * price_down  \n",
    "            cost -= storage_cost * stock  \n",
    "        end\n",
    "        costs[itr] = cost\n",
    "    end\n",
    "    std_var = std(costs)\n",
    "    final_cost = mean(costs)\n",
    "    CI_half_lenght = std_var * 1.96 / sqrt(N)\n",
    "    return final_cost, final_cost + CI_half_lenght, final_cost - CI_half_lenght\n",
    "end"
   ]
  },
  {
   "cell_type": "code",
   "execution_count": 38,
   "metadata": {},
   "outputs": [
    {
     "data": {
      "text/plain": [
       "get_cost_of_policy (generic function with 2 methods)"
      ]
     },
     "metadata": {},
     "output_type": "display_data"
    }
   ],
   "source": [
    "function get_cost_of_policy(policy, n, N=10000)\n",
    "    costs = zeros(N)\n",
    "    for itr ∈ 1:N\n",
    "        stock = initial_stock  \n",
    "        cost = 0.0\n",
    "        for t ∈ 1:T  \n",
    "            up_stock = min(policy[t], 5, max_stock - stock)\n",
    "            cost -= up_stock * price_up \n",
    "            stock += up_stock\n",
    "            d = rand(Binomial(n, p[t]))  \n",
    "            down_stock = min(d, stock - 1)  \n",
    "            stock -= down_stock\n",
    "            cost += down_stock * price_down  \n",
    "            cost -= storage_cost * stock \n",
    "        end\n",
    "        costs[itr] = cost\n",
    "    end\n",
    "    final_cost = mean(costs)\n",
    "    CI_half_length = 1.96 * std(costs) / sqrt(N)\n",
    "    return (final_cost, final_cost + CI_half_length, final_cost - CI_half_length)\n",
    "end"
   ]
  },
  {
   "cell_type": "code",
   "execution_count": 39,
   "metadata": {},
   "outputs": [
    {
     "name": "stdout",
     "output_type": "stream",
     "text": [
      "the expected cost obtained is 98.17491000000001 and a 95% confidence interval is [97.88445577012264,98.46536422987738]"
     ]
    }
   ],
   "source": [
    "test_policy = 5 * ones(T)\n",
    "cost,CI_upper_bound,CI_lower_bound = get_cost_of_policy(test_policy,10)\n",
    "print(\"the expected cost obtained is $cost and a 95% confidence interval is [$CI_lower_bound,$CI_upper_bound]\")"
   ]
  },
  {
   "cell_type": "markdown",
   "metadata": {},
   "source": [
    "- dynamic programming"
   ]
  },
  {
   "cell_type": "code",
   "execution_count": 40,
   "metadata": {},
   "outputs": [
    {
     "data": {
      "text/plain": [
       "116.75121513292399"
      ]
     },
     "metadata": {},
     "output_type": "display_data"
    }
   ],
   "source": [
    "function inventory_dp()\n",
    "    V = zeros(T+1, max_stock + 1)\n",
    "    policy = zeros(Int, T, max_stock + 1) \n",
    "\n",
    "    binom_probs = Vector{Vector{Float64}}(undef, T)\n",
    "    for t in 1:T\n",
    "        dist = Binomial(10, p[t])\n",
    "        binom_probs[t] = [pdf(dist, k) for k in 0:10]\n",
    "    end\n",
    "\n",
    "    for t in T:-1:1  \n",
    "        probs = binom_probs[t]\n",
    "        \n",
    "        for x in 0:max_stock  \n",
    "            max_expected_cost = -Inf\n",
    "            best_u = 0\n",
    "            for u in 0:min(max_order, max_stock - x)\n",
    "                S = x + u  \n",
    "                total_cost = 0.0\n",
    "                for (k_idx, k) in enumerate(0:10)\n",
    "                    prob = probs[k_idx]\n",
    "                    sales = min(k, S-1)\n",
    "                    next_stock = max(0, S - k)\n",
    "                    order_cost = price_up*u\n",
    "                    holding_cost = storage_cost * next_stock\n",
    "                    revenue = price_down* sales\n",
    "                    cost_component = revenue - order_cost - holding_cost\n",
    "                    if t < T\n",
    "                        cost_component += V[t+1, next_stock + 1] \n",
    "                    end\n",
    "                    \n",
    "                    total_cost += prob * cost_component\n",
    "                end\n",
    "                if total_cost > max_expected_cost\n",
    "                    max_expected_cost = total_cost\n",
    "                    best_u = u\n",
    "                end\n",
    "            end\n",
    "            V[t, x+1] = max_expected_cost\n",
    "            policy[t, x+1] = best_u\n",
    "        end\n",
    "    end\n",
    "\n",
    "    return V, policy\n",
    "end\n",
    "\n",
    "V, policy = inventory_dp()\n",
    "\n",
    "expected_cost = V[1, 10+1]"
   ]
  },
  {
   "cell_type": "code",
   "execution_count": 41,
   "metadata": {},
   "outputs": [
    {
     "name": "stdout",
     "output_type": "stream",
     "text": [
      "the expected cost obtained for the optimal policy is 116.42698999999999 and a 95% confidence interval is [116.20892435238058,116.6450556476194]"
     ]
    }
   ],
   "source": [
    "cost,LB,UB = get_cost_of_complete_policy(policy,10)\n",
    "print(\"the expected cost obtained for the optimal policy is $cost and a 95% confidence interval is [$UB,$LB]\")"
   ]
  },
  {
   "cell_type": "code",
   "execution_count": 66,
   "metadata": {},
   "outputs": [
    {
     "data": {
      "text/plain": [
       "765.2803067250243"
      ]
     },
     "metadata": {},
     "output_type": "display_data"
    }
   ],
   "source": [
    "function inventory_dp_with_time(T=96)\n",
    "    V = zeros(T+1, max_stock + 1)\n",
    "    policy = zeros(Int, T, max_stock + 1) \n",
    "\n",
    "    binom_probs = Vector{Vector{Float64}}(undef, T)\n",
    "    for t in 1:T\n",
    "        \n",
    "        dist = Binomial(10, p[(t-1)%len_p + 1])\n",
    "        binom_probs[t] = [pdf(dist, k) for k in 0:10]\n",
    "    end\n",
    "\n",
    "    for t in T:-1:1  \n",
    "        probs = binom_probs[t]\n",
    "        \n",
    "        for x in 0:max_stock  \n",
    "            max_expected_cost = -Inf\n",
    "            best_u = 0\n",
    "            for u in 0:min(max_order, max_stock - x)\n",
    "                S = x + u  \n",
    "                total_cost = 0.0\n",
    "                for (k_idx, k) in enumerate(0:10)\n",
    "                    prob = probs[k_idx]\n",
    "                    sales = min(k, S-1)\n",
    "                    next_stock = max(0, S - k)\n",
    "                    order_cost = price_up*u\n",
    "                    holding_cost = storage_cost * next_stock\n",
    "                    revenue = price_down* sales\n",
    "                    cost_component = revenue - order_cost - holding_cost\n",
    "                    if t < T\n",
    "                        cost_component += V[t+1, next_stock + 1] \n",
    "                    end\n",
    "                    \n",
    "                    total_cost += prob * cost_component\n",
    "                end\n",
    "                if total_cost > max_expected_cost\n",
    "                    max_expected_cost = total_cost\n",
    "                    best_u = u\n",
    "                end\n",
    "            end\n",
    "            V[t, x+1] = max_expected_cost\n",
    "            policy[t, x+1] = best_u\n",
    "        end\n",
    "    end\n",
    "\n",
    "    return V, policy\n",
    "end\n",
    "\n",
    "V, policy = inventory_dp_with_time()\n",
    "\n",
    "expected_cost = V[1, 10+1]"
   ]
  },
  {
   "cell_type": "code",
   "execution_count": 70,
   "metadata": {},
   "outputs": [
    {
     "name": "stdout",
     "output_type": "stream",
     "text": [
      "Optimal expected value: 148.0\n"
     ]
    }
   ],
   "source": [
    "function solve_stock_dp()\n",
    "    T = 14\n",
    "    max_stock = 20\n",
    "    min_stock = 1\n",
    "    max_order = 5\n",
    "    p = [0.2, 0.2, 0.4, 0.4, 0.7, 0.7, 0.2, 0.2, 0.8, 0.8, 0.5, 0.5, 0.2, 0.2]\n",
    "    \n",
    "    \n",
    "    stock_range = min_stock:max_stock\n",
    "    order_range = 0:max_order\n",
    "    \n",
    "    \n",
    "    V = Array{Float64}(undef, T+1, length(stock_range), length(order_range), length(order_range))\n",
    "    policy = Array{Int}(undef, T, length(stock_range), length(order_range), length(order_range))\n",
    "    \n",
    "    \n",
    "    fill!(view(V, T+1, :, :, :), 0.0)\n",
    "\n",
    "    \n",
    "    binom_probs = Vector{Vector{Float64}}(undef, T)\n",
    "    for t in 1:T\n",
    "        dist = Binomial(10, p[t])\n",
    "        binom_probs[t] = [pdf(dist, d) for d in 0:10]\n",
    "    end\n",
    "\n",
    "    for t in T:-1:1\n",
    "        for x in stock_range  \n",
    "            for u1 in order_range \n",
    "                for u2 in order_range  \n",
    "                    min_cost = Inf\n",
    "                    best_action = 0\n",
    "\n",
    "                    \n",
    "                    current_stock = x + u1\n",
    "                    current_stock = min(current_stock, max_stock)\n",
    "\n",
    "                    \n",
    "                    expected_cost = 0.0\n",
    "                    for (d_idx, d) in enumerate(0:10)\n",
    "                        prob = binom_probs[t][d_idx]\n",
    "                        \n",
    "                       \n",
    "                        after_demand = max(min_stock, current_stock - d)\n",
    "                        sales = min(d, current_stock)\n",
    "                        \n",
    "                        \n",
    "                        holding = 0.1 * after_demand\n",
    "                        revenue = 3 * sales\n",
    "                        \n",
    "                        \n",
    "                        best_u = 0\n",
    "                        min_cost_d = Inf\n",
    "                        \n",
    "                        \n",
    "                        max_feasible = min(max_order, max_stock - after_demand)\n",
    "                        \n",
    "                        for u in 0:max_feasible\n",
    "                            \n",
    "                            next_stock = max(min_stock, after_demand + u2)  \n",
    "                            next_stock = min(next_stock, max_stock)\n",
    "                            \n",
    "\n",
    "                            x_idx = next_stock - min_stock + 1\n",
    "                            u1_idx = u2 + 1  \n",
    "                            u2_idx = u + 1\n",
    "                            \n",
    "                            order_cost = u\n",
    "                            total_cost = order_cost + holding - revenue\n",
    "                            \n",
    "                            if t < T\n",
    "                                total_cost += V[t+1, x_idx, u1_idx, u2_idx]\n",
    "                            end\n",
    "                            \n",
    "                            if total_cost < min_cost_d\n",
    "                                min_cost_d = total_cost\n",
    "                                best_u = u\n",
    "                            end\n",
    "                        end\n",
    "                        \n",
    "                        expected_cost += prob * min_cost_d\n",
    "                    end\n",
    "                    \n",
    "                    x_idx = x - min_stock + 1\n",
    "                    u1_idx = u1 + 1\n",
    "                    u2_idx = u2 + 1\n",
    "                    \n",
    "                    V[t, x_idx, u1_idx, u2_idx] = expected_cost\n",
    "                    policy[t, x_idx, u1_idx, u2_idx] = best_action\n",
    "                end\n",
    "            end\n",
    "        end\n",
    "    end\n",
    "\n",
    "    \n",
    "    initial_x_idx = 10 - min_stock + 1\n",
    "    return -V[1, initial_x_idx, 1, 1]  \n",
    "end\n",
    "\n",
    "# Run the DP solution\n",
    "optimal_value = solve_stock_dp()\n",
    "println(\"Optimal expected value: \", round(optimal_value, digits=2))"
   ]
  },
  {
   "cell_type": "markdown",
   "metadata": {},
   "source": [
    "# 3 - Dice trading"
   ]
  },
  {
   "cell_type": "markdown",
   "metadata": {},
   "source": [
    "- constants :"
   ]
  },
  {
   "cell_type": "code",
   "execution_count": 43,
   "metadata": {},
   "outputs": [
    {
     "data": {
      "text/plain": [
       "3"
      ]
     },
     "metadata": {},
     "output_type": "display_data"
    }
   ],
   "source": [
    "T = 10\n",
    "price_per_dice = 5\n",
    "max_dice = 3"
   ]
  },
  {
   "cell_type": "code",
   "execution_count": 44,
   "metadata": {},
   "outputs": [
    {
     "data": {
      "text/plain": [
       "simulate_strategy (generic function with 2 methods)"
      ]
     },
     "metadata": {},
     "output_type": "display_data"
    }
   ],
   "source": [
    "function simulate_strategy(strategy,N=10000)\n",
    "    results = zeros(N)\n",
    "    \n",
    "    for i in 1:N\n",
    "        x = 0  \n",
    "        d = 1  \n",
    "        for t in 1:T\n",
    "            action = strategy[t, x+1, d]\n",
    "            \n",
    "            if action == 1 && x >= 6 && d < 3\n",
    "                x -= price_per_dice\n",
    "                d += 1\n",
    "            end\n",
    "            \n",
    "            roll = rand(1:6, d)\n",
    "            x += maximum(roll)\n",
    "        end\n",
    "        results[i] = x\n",
    "    end\n",
    "    \n",
    "    μ = mean(results)\n",
    "    ci = 1.96 * std(results)/sqrt(N)\n",
    "    return μ, μ - ci, μ + ci\n",
    "end"
   ]
  },
  {
   "cell_type": "code",
   "execution_count": 45,
   "metadata": {},
   "outputs": [
    {
     "data": {
      "text/plain": [
       "solve_dice_dp (generic function with 1 method)"
      ]
     },
     "metadata": {},
     "output_type": "display_data"
    }
   ],
   "source": [
    "function solve_dice_dp()\n",
    "    T = 10\n",
    "    max_dice = 3\n",
    "    max_points = 61 # 6 * 10  and we add 1 for safety \n",
    "\n",
    "    V = zeros(T+1, max_points+1, max_dice+1)\n",
    "    policy = zeros(Int, T, max_points+1, max_dice+1)\n",
    "\n",
    "    for x in 0:max_points, d in 1:max_dice\n",
    "        V[T+1, x+1, d] = x\n",
    "    end\n",
    "    \n",
    "\n",
    "    dice_probs = [Dict{Int,Float64}() for _ in 1:3]\n",
    "    for dice in 1:3\n",
    "        for m in 1:6\n",
    "            prob = (m/6)^dice - ((m-1)/6)^dice\n",
    "            dice_probs[dice][m] = prob\n",
    "        end\n",
    "    end\n",
    "    \n",
    "    for t in T:-1:1\n",
    "        for x in 0:max_points\n",
    "            for d in 1:max_dice\n",
    "                best_value = -Inf\n",
    "                best_action = 0\n",
    "\n",
    "                for action in 0:1\n",
    "                    if action == 1 && (x < 6 || d >= 3)\n",
    "                        continue\n",
    "                    end\n",
    "                    \n",
    "                    current_value = 0.0\n",
    "                    if action == 1\n",
    "                        new_d = min(d + 1, 3)\n",
    "                        new_x = x - price_per_dice\n",
    "                    else\n",
    "                        new_d = d\n",
    "                        new_x = x\n",
    "                    end\n",
    "                    \n",
    "                    new_x < 0 && continue\n",
    "                    \n",
    "                    for (m, prob) in dice_probs[new_d]\n",
    "                        next_x = new_x + m\n",
    "                        next_x = min(next_x, max_points)\n",
    "                        \n",
    "                        if t+1 <= T && next_x <= max_points\n",
    "                            current_value += prob * V[t+1, next_x+1, new_d]\n",
    "                        else\n",
    "                            current_value += prob * next_x\n",
    "                        end\n",
    "                    end\n",
    "                    \n",
    "                    if current_value > best_value\n",
    "                        best_value = current_value\n",
    "                        best_action = action\n",
    "                    end\n",
    "                end\n",
    "                \n",
    "                V[t, x+1, d] = best_value\n",
    "                policy[t, x+1, d] = best_action\n",
    "            end\n",
    "        end\n",
    "    end\n",
    "    \n",
    "    V, policy\n",
    "end"
   ]
  },
  {
   "cell_type": "code",
   "execution_count": 46,
   "metadata": {},
   "outputs": [
    {
     "name": "stdout",
     "output_type": "stream",
     "text": [
      "the gains from the optimal strategy is 37.62152777777777\n",
      "through simulation we find the gain associated with the optimal strategy is 37.564 and the 95% confidence interval is [37.46421175118231,37.66378824881769]"
     ]
    }
   ],
   "source": [
    "V, policy = solve_dice_dp()\n",
    "print(\"the gains from the optimal strategy is $(V[1,1,1])\")\n",
    "println()\n",
    "μ,LB,UB =  simulate_strategy(policy)\n",
    "print(\"through simulation we find the gain associated with the optimal strategy is $μ and the 95% confidence interval is [$LB,$UB]\")"
   ]
  },
  {
   "cell_type": "code",
   "execution_count": 47,
   "metadata": {},
   "outputs": [
    {
     "data": {
      "text/plain": [
       "10×62×4 Array{Int64, 3}:\n",
       "[:, :, 1] =\n",
       " 0  0  0  0  0  0  1  1  1  1  1  1  1  …  1  0  0  0  0  1  1  1  1  1  1  1\n",
       " 0  0  0  0  0  0  1  1  1  1  1  1  1     1  1  0  0  0  0  0  1  1  1  1  1\n",
       " 0  0  0  0  0  0  1  1  1  1  1  1  1     1  1  1  0  0  0  0  0  1  1  1  1\n",
       " 0  0  0  0  0  0  1  1  1  1  1  1  1     1  1  1  1  0  0  0  0  0  1  1  1\n",
       " 0  0  0  0  0  0  1  1  1  1  1  1  1     1  1  1  1  1  0  0  0  0  0  1  1\n",
       " 0  0  0  0  0  0  0  0  0  0  0  0  0  …  1  1  1  1  1  0  0  0  0  0  0  1\n",
       " 0  0  0  0  0  0  0  0  0  0  0  0  0     0  0  0  0  0  0  0  0  0  0  0  0\n",
       " 0  0  0  0  0  0  0  0  0  0  0  0  0     0  0  0  0  0  0  0  0  0  0  0  0\n",
       " 0  0  0  0  0  0  0  0  0  0  0  0  0     0  0  0  0  0  0  0  0  0  0  0  0\n",
       " 0  0  0  0  0  0  0  0  0  0  0  0  0     0  0  0  0  0  0  0  0  0  0  0  0\n",
       "\n",
       "[:, :, 2] =\n",
       " 0  0  0  0  0  0  0  0  0  0  0  1  1  …  0  0  0  0  0  0  0  0  0  0  0  0\n",
       " 0  0  0  0  0  0  0  0  0  0  0  0  0     1  0  0  0  0  0  0  0  0  0  0  0\n",
       " 0  0  0  0  0  0  0  0  0  0  0  0  0     1  1  0  0  0  0  0  0  0  0  0  0\n",
       " 0  0  0  0  0  0  0  0  0  0  0  0  0     0  0  0  0  0  0  0  0  0  0  0  0\n",
       " 0  0  0  0  0  0  0  0  0  0  0  0  0     0  0  0  0  0  0  0  0  0  0  0  0\n",
       " 0  0  0  0  0  0  0  0  0  0  0  0  0  …  0  0  0  0  0  0  0  0  0  0  0  0\n",
       " 0  0  0  0  0  0  0  0  0  0  0  0  0     0  0  0  0  0  0  0  0  0  0  0  0\n",
       " 0  0  0  0  0  0  0  0  0  0  0  0  0     0  0  0  0  0  0  0  0  0  0  0  0\n",
       " 0  0  0  0  0  0  0  0  0  0  0  0  0     0  0  0  0  0  0  0  0  0  0  0  0\n",
       " 0  0  0  0  0  0  0  0  0  0  0  0  0     0  0  0  0  0  0  0  0  0  0  0  0\n",
       "\n",
       "[:, :, 3] =\n",
       " 0  0  0  0  0  0  0  0  0  0  0  0  0  …  0  0  0  0  0  0  0  0  0  0  0  0\n",
       " 0  0  0  0  0  0  0  0  0  0  0  0  0     0  0  0  0  0  0  0  0  0  0  0  0\n",
       " 0  0  0  0  0  0  0  0  0  0  0  0  0     0  0  0  0  0  0  0  0  0  0  0  0\n",
       " 0  0  0  0  0  0  0  0  0  0  0  0  0     0  0  0  0  0  0  0  0  0  0  0  0\n",
       " 0  0  0  0  0  0  0  0  0  0  0  0  0     0  0  0  0  0  0  0  0  0  0  0  0\n",
       " 0  0  0  0  0  0  0  0  0  0  0  0  0  …  0  0  0  0  0  0  0  0  0  0  0  0\n",
       " 0  0  0  0  0  0  0  0  0  0  0  0  0     0  0  0  0  0  0  0  0  0  0  0  0\n",
       " 0  0  0  0  0  0  0  0  0  0  0  0  0     0  0  0  0  0  0  0  0  0  0  0  0\n",
       " 0  0  0  0  0  0  0  0  0  0  0  0  0     0  0  0  0  0  0  0  0  0  0  0  0\n",
       " 0  0  0  0  0  0  0  0  0  0  0  0  0     0  0  0  0  0  0  0  0  0  0  0  0\n",
       "\n",
       "[:, :, 4] =\n",
       " 0  0  0  0  0  0  0  0  0  0  0  0  0  …  0  0  0  0  0  0  0  0  0  0  0  0\n",
       " 0  0  0  0  0  0  0  0  0  0  0  0  0     0  0  0  0  0  0  0  0  0  0  0  0\n",
       " 0  0  0  0  0  0  0  0  0  0  0  0  0     0  0  0  0  0  0  0  0  0  0  0  0\n",
       " 0  0  0  0  0  0  0  0  0  0  0  0  0     0  0  0  0  0  0  0  0  0  0  0  0\n",
       " 0  0  0  0  0  0  0  0  0  0  0  0  0     0  0  0  0  0  0  0  0  0  0  0  0\n",
       " 0  0  0  0  0  0  0  0  0  0  0  0  0  …  0  0  0  0  0  0  0  0  0  0  0  0\n",
       " 0  0  0  0  0  0  0  0  0  0  0  0  0     0  0  0  0  0  0  0  0  0  0  0  0\n",
       " 0  0  0  0  0  0  0  0  0  0  0  0  0     0  0  0  0  0  0  0  0  0  0  0  0\n",
       " 0  0  0  0  0  0  0  0  0  0  0  0  0     0  0  0  0  0  0  0  0  0  0  0  0\n",
       " 0  0  0  0  0  0  0  0  0  0  0  0  0     0  0  0  0  0  0  0  0  0  0  0  0"
      ]
     },
     "metadata": {},
     "output_type": "display_data"
    }
   ],
   "source": [
    "policy"
   ]
  },
  {
   "cell_type": "code",
   "execution_count": 48,
   "metadata": {},
   "outputs": [
    {
     "data": {
      "text/plain": [
       "precompute_max_probs (generic function with 1 method)"
      ]
     },
     "metadata": {},
     "output_type": "display_data"
    }
   ],
   "source": [
    "function precompute_max_probs()\n",
    "    max_probs = Dict{Int,Dict{Int,Float64}}()\n",
    "    for dice in 1:MAX_DICE\n",
    "        probs = Dict{Int,Float64}()\n",
    "        for m in 1:6\n",
    "            prob = (m/6)^dice - ((m-1)/6)^dice\n",
    "            probs[m] = prob\n",
    "        end\n",
    "        max_probs[dice] = probs\n",
    "    end\n",
    "    return max_probs\n",
    "end"
   ]
  },
  {
   "cell_type": "code",
   "execution_count": 49,
   "metadata": {},
   "outputs": [
    {
     "data": {
      "text/plain": [
       "solve_dp_spend (generic function with 3 methods)"
      ]
     },
     "metadata": {},
     "output_type": "display_data"
    }
   ],
   "source": [
    "function solve_dp_spend(total_turns=10, max_dice=5) \n",
    "    max_points = 12 * total_turns  \n",
    "\n",
    "    value_grid = zeros(Float64, total_turns+1, max_points+1, max_dice+1)\n",
    "\n",
    "    for points ∈ 0:max_points, dice ∈ 1:max_dice\n",
    "        value_grid[total_turns+1, points+1, dice] = points\n",
    "    end\n",
    "\n",
    "    probability_matrix = Vector{Vector{Float64}}(undef, max_dice)\n",
    "    for dice ∈ 1:max_dice\n",
    "        probabilities = Float64[]\n",
    "        for roll ∈ 1:6\n",
    "            push!(probabilities, (roll/6)^dice - ((roll-1)/6)^dice)\n",
    "        end\n",
    "        probability_matrix[dice] = probabilities\n",
    "    end\n",
    "\n",
    "    for current_turn ∈ total_turns:-1:1  \n",
    "        for dice ∈ 1:max_dice, points ∈  0:max_points  \n",
    "            optimal_value = -Inf \n",
    "            \n",
    "            for action ∈ [0, 1]  \n",
    "                if action == 1 && (points < 6 || dice == max_dice)\n",
    "                    continue\n",
    "                end\n",
    "\n",
    "                post_action_points = points - 5 * action\n",
    "                post_action_dice = dice + action\n",
    "\n",
    "                expected_return = 0.0\n",
    "\n",
    "                for die_roll ∈ 1:6  \n",
    "                    roll_prob = probability_matrix[post_action_dice][die_roll]\n",
    "                    updated_points_no_spend = min(post_action_points + die_roll, max_points)\n",
    "                    value_no_spend = value_grid[current_turn+1, updated_points_no_spend+1, post_action_dice]\n",
    "\n",
    "                    if post_action_dice >= 2\n",
    "                        updated_points_spend = min(post_action_points + 2*die_roll, max_points)\n",
    "                        value_spend = value_grid[current_turn+1, updated_points_spend+1, post_action_dice-1]\n",
    "                    else\n",
    "                        value_spend = -Inf\n",
    "                    end\n",
    "                    expected_return += roll_prob * max(value_no_spend, value_spend)\n",
    "                end\n",
    "                optimal_value = max(optimal_value, expected_return)\n",
    "            end\n",
    "\n",
    "            value_grid[current_turn, points+1, dice] = optimal_value\n",
    "        end\n",
    "    end\n",
    "\n",
    "    return value_grid\n",
    "end"
   ]
  },
  {
   "cell_type": "code",
   "execution_count": 50,
   "metadata": {},
   "outputs": [],
   "source": [
    "print(\"the optimal value is $(solve_dp_spend(10,5)[1,1,1])\")"
   ]
  },
  {
   "cell_type": "code",
   "execution_count": 51,
   "metadata": {},
   "outputs": [
    {
     "name": "stdout",
     "output_type": "stream",
     "text": [
      "the optimal value is 47.59380284322565"
     ]
    },
    {
     "data": {
      "text/plain": [
       "11×121 Matrix{Float64}:\n",
       " 47.5938   49.3069   50.956    52.5375  …  120.0    120.0    120.0  120.0\n",
       " 41.8268   43.5078   45.1285   46.6852     120.0    120.0    120.0  120.0\n",
       " 36.1867   37.8247   39.4072   40.9307     120.0    120.0    120.0  120.0\n",
       " 30.7175   32.2995   33.8306   35.3081     120.0    120.0    120.0  120.0\n",
       " 25.4418   26.9649   28.4402   29.8664     120.0    120.0    120.0  120.0\n",
       " 20.3778   21.8306   23.2419   24.6119  …  120.0    120.0    120.0  120.0\n",
       " 15.5655   16.943    18.2822   19.5836     120.0    120.0    120.0  120.0\n",
       " 11.034    12.2963   13.5463   14.784      120.0    120.0    120.0  120.0\n",
       "  7.07407   8.14815   9.22222  10.2963     119.972  120.0    120.0  120.0\n",
       "  3.5       4.5       5.5       6.5        119.5    119.833  120.0  120.0\n",
       "  0.0       1.0       2.0       3.0     …  117.0    118.0    119.0  120.0"
      ]
     },
     "metadata": {},
     "output_type": "display_data"
    }
   ],
   "source": [
    "matrix = solve_dp_spend(10,5)[:,:,1]"
   ]
  },
  {
   "cell_type": "code",
   "execution_count": 52,
   "metadata": {},
   "outputs": [
    {
     "data": {
      "text/plain": [
       "solve_dp_spend_with_selling (generic function with 3 methods)"
      ]
     },
     "metadata": {},
     "output_type": "display_data"
    }
   ],
   "source": [
    "function solve_dp_spend_with_selling(total_turns=10, max_dice=5) \n",
    "    K = [0,2,4,5,8]\n",
    "    max_points = 12 * total_turns  \n",
    "\n",
    "    value_grid = zeros(Float64, total_turns+1, max_points+1, max_dice+1)\n",
    "\n",
    "    for points ∈ 0:max_points, dice ∈ 1:max_dice\n",
    "        value_grid[total_turns+1, points+1, dice] = points + K[dice]\n",
    "    end\n",
    "\n",
    "    probability_matrix = Vector{Vector{Float64}}(undef, max_dice)\n",
    "    for dice ∈ 1:max_dice\n",
    "        probabilities = Float64[]\n",
    "        for roll ∈ 1:6\n",
    "            push!(probabilities, (roll/6)^dice - ((roll-1)/6)^dice)\n",
    "        end\n",
    "        probability_matrix[dice] = probabilities\n",
    "    end\n",
    "\n",
    "    for current_turn ∈ total_turns:-1:1  \n",
    "        for dice ∈ 1:max_dice, points ∈ 0:max_points  \n",
    "            optimal_value = -Inf \n",
    "            \n",
    "            for action ∈ [0, 1]  \n",
    "                if action == 1 && (points < 6 || dice == max_dice)\n",
    "                    continue\n",
    "                end\n",
    "\n",
    "                post_action_points = points - 5 * action\n",
    "                post_action_dice = dice + action\n",
    "\n",
    "                expected_return = 0.0\n",
    "\n",
    "                for die_roll ∈ 1:6  \n",
    "                    roll_prob = probability_matrix[post_action_dice][die_roll]\n",
    "                    updated_points_no_spend = min(post_action_points + die_roll, max_points)\n",
    "                    value_no_spend = value_grid[current_turn+1, updated_points_no_spend+1, post_action_dice]\n",
    "\n",
    "                    if post_action_dice >= 2\n",
    "                        updated_points_spend = min(post_action_points + 2*die_roll, max_points)\n",
    "                        value_spend = value_grid[current_turn+1, updated_points_spend+1, post_action_dice-1]\n",
    "                    else\n",
    "                        value_spend = -Inf\n",
    "                    end\n",
    "                    expected_return += roll_prob * max(value_no_spend, value_spend)\n",
    "                end\n",
    "                optimal_value = max(optimal_value, expected_return)\n",
    "            end\n",
    "\n",
    "            value_grid[current_turn, points+1, dice] = optimal_value\n",
    "        end\n",
    "    end\n",
    "\n",
    "    return value_grid\n",
    "end"
   ]
  },
  {
   "cell_type": "code",
   "execution_count": 53,
   "metadata": {},
   "outputs": [
    {
     "data": {
      "text/plain": [
       "11×121×6 Array{Float64, 3}:\n",
       "[:, :, 1] =\n",
       " 47.7127  49.4287   51.0804   52.6641  …  128.0    128.0    128.0    128.0\n",
       " 41.9341  43.619    45.2432   46.8029     128.0    128.0    128.0    128.0\n",
       " 36.2789  37.9219   39.509    41.0365     128.0    128.0    128.0    128.0\n",
       " 30.7908  32.3785   33.9152   35.398      128.0    128.0    128.0    128.0\n",
       " 25.4996  27.0268   28.5062   29.9364     127.998  127.999  128.0    128.0\n",
       " 20.4213  21.8789   23.2946   24.6684  …  127.844  127.923  127.965  127.985\n",
       " 15.5936  16.9749   18.3183   19.6243     125.728  126.283  126.777  127.116\n",
       " 11.054   12.3194   13.5718   14.811      123.76   124.041  124.284  124.448\n",
       "  7.0787   8.15741   9.23611  10.3148     121.667  122.185  122.699  123.065\n",
       "  3.5      4.5       5.5       6.5        119.5    119.833  120.611  121.167\n",
       "  0.0      1.0       2.0       3.0     …  117.0    118.0    119.0    120.0\n",
       "\n",
       "[:, :, 2] =\n",
       " 57.1068   58.5241   59.8618  61.1113  …  128.0    128.0    128.0    128.0\n",
       " 51.1908   52.5921   53.9152  55.1533     128.0    128.0    128.0    128.0\n",
       " 45.3496   46.7285   48.0317  49.2539     128.0    128.0    128.0    128.0\n",
       " 39.6095   40.9597   42.2366  43.4374     128.0    128.0    128.0    128.0\n",
       " 34.0056   35.3123   36.5529  37.7261     128.0    128.0    128.0    128.0\n",
       " 28.6276   29.8615   31.0422  32.1711  …  128.0    128.0    128.0    128.0\n",
       " 23.42     24.5902   25.7204  26.8124     127.94   127.977  127.992  127.998\n",
       " 18.5278   19.5724   20.6072  21.632      125.968  126.646  127.178  127.474\n",
       " 13.75     14.75     15.75    16.75       123.879  124.165  124.459  124.637\n",
       "  8.97222   9.97222  10.9722  11.9722     121.861  122.218  123.046  123.537\n",
       "  2.0       3.0       4.0      5.0     …  119.0    120.0    121.0    122.0\n",
       "\n",
       "[:, :, 3] =\n",
       " 64.2711  65.5601  66.7573  67.8638  …  128.0    128.0    128.0    128.0\n",
       " 58.2986  59.5669  60.7497  61.8519     128.0    128.0    128.0    128.0\n",
       " 52.3793  53.6268  54.7913  55.8829     128.0    128.0    128.0    128.0\n",
       " 46.534   47.7495  48.8913  49.9695     128.0    128.0    128.0    128.0\n",
       " 40.7905  41.9655  43.0754  44.1339     128.0    128.0    128.0    128.0\n",
       " 35.1548  36.2822  37.3592  38.3985  …  128.0    128.0    128.0    128.0\n",
       " 29.6879  30.7312  31.7575  32.771      128.0    128.0    128.0    128.0\n",
       " 24.3083  25.3083  26.3083  27.3083     127.973  127.993  127.998  128.0\n",
       " 18.9287  19.9287  20.9287  21.9287     125.866  126.732  127.378  127.679\n",
       " 11.9213  12.9213  13.9213  14.9213     123.958  123.995  124.492  124.789\n",
       "  4.0      5.0      6.0      7.0     …  121.0    122.0    123.0    124.0\n",
       "\n",
       "[:, :, 4] =\n",
       " 70.7229  71.8766  72.9493  73.9763  …  128.0    128.0    128.0    128.0\n",
       " 64.7086  65.8581  66.9288  67.955      128.0    128.0    128.0    128.0\n",
       " 58.708   59.8493  60.9161  61.9409     128.0    128.0    128.0    128.0\n",
       " 52.7338  53.8594  54.9189  55.9409     128.0    128.0    128.0    128.0\n",
       " 46.8109  47.9061  48.9512  49.9679     128.0    128.0    128.0    128.0\n",
       " 40.9863  42.0231  43.0406  44.0471  …  128.0    128.0    128.0    128.0\n",
       " 35.2239  36.2239  37.2239  38.2239     128.0    128.0    128.0    128.0\n",
       " 29.4616  30.4616  31.4616  32.4616     128.0    128.0    128.0    128.0\n",
       " 22.4183  23.4183  24.4183  25.4183     127.988  127.998  128.0    128.0\n",
       " 14.4892  15.4892  16.4892  17.4892     125.531  126.431  127.431  127.833\n",
       "  5.0      6.0      7.0      8.0     …  122.0    123.0    124.0    125.0\n",
       "\n",
       "[:, :, 5] =\n",
       " 76.5278  77.5278  78.5278  79.5278  80.5278  …  128.0    128.0  128.0  128.0\n",
       " 70.4987  71.4987  72.4987  73.4987  74.4987     128.0    128.0  128.0  128.0\n",
       " 64.4697  65.4697  66.4697  67.4697  68.4697     128.0    128.0  128.0  128.0\n",
       " 58.4406  59.4406  60.4406  61.4406  62.4406     128.0    128.0  128.0  128.0\n",
       " 52.4115  53.4115  54.4115  55.4115  56.4115     128.0    128.0  128.0  128.0\n",
       " 46.3825  47.3825  48.3825  49.3825  50.3825  …  128.0    128.0  128.0  128.0\n",
       " 40.3534  41.3534  42.3534  43.3534  44.3534     128.0    128.0  128.0  128.0\n",
       " 33.2841  34.2841  35.2841  36.2841  37.2841     128.0    128.0  128.0  128.0\n",
       " 25.3511  26.3511  27.3511  28.3511  29.3511     128.0    128.0  128.0  128.0\n",
       " 15.8661  16.8661  17.8661  18.8661  19.8661     127.996  128.0  128.0  128.0\n",
       "  8.0      9.0     10.0     11.0     12.0     …  125.0    126.0  127.0  128.0\n",
       "\n",
       "[:, :, 6] =\n",
       " 0.0  0.0  0.0  0.0  0.0  0.0  0.0  0.0  …  0.0  0.0  0.0  0.0  0.0  0.0  0.0\n",
       " 0.0  0.0  0.0  0.0  0.0  0.0  0.0  0.0     0.0  0.0  0.0  0.0  0.0  0.0  0.0\n",
       " 0.0  0.0  0.0  0.0  0.0  0.0  0.0  0.0     0.0  0.0  0.0  0.0  0.0  0.0  0.0\n",
       " 0.0  0.0  0.0  0.0  0.0  0.0  0.0  0.0     0.0  0.0  0.0  0.0  0.0  0.0  0.0\n",
       " 0.0  0.0  0.0  0.0  0.0  0.0  0.0  0.0     0.0  0.0  0.0  0.0  0.0  0.0  0.0\n",
       " 0.0  0.0  0.0  0.0  0.0  0.0  0.0  0.0  …  0.0  0.0  0.0  0.0  0.0  0.0  0.0\n",
       " 0.0  0.0  0.0  0.0  0.0  0.0  0.0  0.0     0.0  0.0  0.0  0.0  0.0  0.0  0.0\n",
       " 0.0  0.0  0.0  0.0  0.0  0.0  0.0  0.0     0.0  0.0  0.0  0.0  0.0  0.0  0.0\n",
       " 0.0  0.0  0.0  0.0  0.0  0.0  0.0  0.0     0.0  0.0  0.0  0.0  0.0  0.0  0.0\n",
       " 0.0  0.0  0.0  0.0  0.0  0.0  0.0  0.0     0.0  0.0  0.0  0.0  0.0  0.0  0.0\n",
       " 0.0  0.0  0.0  0.0  0.0  0.0  0.0  0.0  …  0.0  0.0  0.0  0.0  0.0  0.0  0.0"
      ]
     },
     "metadata": {},
     "output_type": "display_data"
    }
   ],
   "source": [
    "matrix = solve_dp_spend_with_selling(10,5)"
   ]
  },
  {
   "cell_type": "code",
   "execution_count": 54,
   "metadata": {},
   "outputs": [],
   "source": []
  }
 ],
 "metadata": {
  "kernelspec": {
   "display_name": "Julia 1.10.2",
   "language": "julia",
   "name": "julia-1.10"
  },
  "language_info": {
   "file_extension": ".jl",
   "mimetype": "application/julia",
   "name": "julia",
   "version": "1.10.2"
  }
 },
 "nbformat": 4,
 "nbformat_minor": 2
}
